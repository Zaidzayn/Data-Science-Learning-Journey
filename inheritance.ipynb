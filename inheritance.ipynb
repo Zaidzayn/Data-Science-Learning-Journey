{
 "cells": [
  {
   "cell_type": "code",
   "execution_count": 1,
   "metadata": {},
   "outputs": [
    {
     "name": "stdout",
     "output_type": "stream",
     "text": [
      "helo\n"
     ]
    }
   ],
   "source": [
    "print(\"helo\")"
   ]
  },
  {
   "cell_type": "markdown",
   "metadata": {},
   "source": [
    "Inheritance in OOPs\n"
   ]
  },
  {
   "cell_type": "code",
   "execution_count": 3,
   "metadata": {},
   "outputs": [
    {
     "name": "stdout",
     "output_type": "stream",
     "text": [
      "Car Make: Toyota, Model: Corolla, Year: 2020\n"
     ]
    }
   ],
   "source": [
    "class Car():\n",
    "    def __init__(self, make, model, year):\n",
    "        self.make = make\n",
    "        self.model = model\n",
    "        self.year = year\n",
    "\n",
    "    def display_info(self):\n",
    "        print(f\"Car Make: {self.make}, Model: {self.model}, Year: {self.year}\")\n",
    "Car1 = Car(\"Toyota\", \"Corolla\", 2020)\n",
    "Car1.display_info()"
   ]
  },
  {
   "cell_type": "code",
   "execution_count": 4,
   "metadata": {},
   "outputs": [],
   "source": [
    "## Single Inheritance\n",
    "\n",
    "class ElectricCar(Car):\n",
    "    def __init__(self, make, model, year, battery_size=75):\n",
    "        super().__init__(make, model, year)\n",
    "        self.battery_size = battery_size\n",
    "\n",
    "    def display_info(self):\n",
    "        super().display_info()\n",
    "        print(f\"Battery Size: {self.battery_size} kWh\")"
   ]
  },
  {
   "cell_type": "code",
   "execution_count": 5,
   "metadata": {},
   "outputs": [
    {
     "name": "stdout",
     "output_type": "stream",
     "text": [
      "Car Make: Tesla, Model: Model 3, Year: 2021\n",
      "Battery Size: 75 kWh\n"
     ]
    }
   ],
   "source": [
    "tesla= ElectricCar(\"Tesla\", \"Model 3\", 2021, 75)\n",
    "tesla.display_info()"
   ]
  },
  {
   "cell_type": "code",
   "execution_count": 6,
   "metadata": {},
   "outputs": [
    {
     "name": "stdout",
     "output_type": "stream",
     "text": [
      "Buddy barks\n",
      "Alice is the owner of this pet\n"
     ]
    }
   ],
   "source": [
    "##MULTIPLE INHERITANCE\n",
    "\n",
    "#Base class1\n",
    "class Animal():\n",
    "    def __init__(self,name):\n",
    "        self.name = name\n",
    "    \n",
    "    def speak(self):\n",
    "        print(f\"{self.name} makes a sound\")\n",
    "#Base class2\n",
    "class Pet():\n",
    "    def __init__(self, owner):\n",
    "        self.owner = owner\n",
    "    \n",
    "    def display_owner(self):\n",
    "        print(f\"{self.owner} is the owner of this pet\")\n",
    "#Derived class\n",
    "class Dog(Animal, Pet):\n",
    "    def __init__(self, name, owner):\n",
    "        Animal.__init__(self, name)\n",
    "        Pet.__init__(self, owner)\n",
    "    \n",
    "    def speak(self):\n",
    "        print(f\"{self.name} barks\")\n",
    "    \n",
    "    def display_info(self):\n",
    "        self.speak()\n",
    "        self.display_owner()\n",
    "# Creating an instance of Dog\n",
    "dog = Dog(\"Buddy\", \"Alice\")\n",
    "dog.display_info()\n",
    "    "
   ]
  },
  {
   "cell_type": "code",
   "execution_count": null,
   "metadata": {},
   "outputs": [],
   "source": []
  }
 ],
 "metadata": {
  "kernelspec": {
   "display_name": "Python 3",
   "language": "python",
   "name": "python3"
  },
  "language_info": {
   "codemirror_mode": {
    "name": "ipython",
    "version": 3
   },
   "file_extension": ".py",
   "mimetype": "text/x-python",
   "name": "python",
   "nbconvert_exporter": "python",
   "pygments_lexer": "ipython3",
   "version": "3.10.18"
  }
 },
 "nbformat": 4,
 "nbformat_minor": 2
}
