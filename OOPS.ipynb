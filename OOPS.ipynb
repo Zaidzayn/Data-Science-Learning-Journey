{
 "cells": [
  {
   "cell_type": "code",
   "execution_count": 1,
   "metadata": {},
   "outputs": [
    {
     "name": "stdout",
     "output_type": "stream",
     "text": [
      "<class 'list'>\n"
     ]
    }
   ],
   "source": [
    "lst=[]\n",
    "print(type(lst))"
   ]
  },
  {
   "cell_type": "code",
   "execution_count": 7,
   "metadata": {},
   "outputs": [
    {
     "name": "stdout",
     "output_type": "stream",
     "text": [
      "['Alice', 'Bob', 'zaid']\n"
     ]
    }
   ],
   "source": [
    "names=['Alice', 'Bob', 'Charlie']\n",
    "\n",
    "names[-1]=\"zaid\"\n",
    "print(names)"
   ]
  },
  {
   "cell_type": "code",
   "execution_count": 8,
   "metadata": {},
   "outputs": [
    {
     "name": "stdout",
     "output_type": "stream",
     "text": [
      "[1, 2, 3, 4, 5]\n",
      "[6, 7, 8, 9, 10]\n",
      "[1, 3, 5, 7, 9]\n",
      "[10, 9, 8, 7, 6, 5, 4, 3, 2, 1]\n",
      "10\n",
      "9\n",
      "[1, 2, 3, 4, 5, 6, 7, 8, 9, 10, 11]\n"
     ]
    }
   ],
   "source": [
    "list=[1, 2, 3, 4, 5, 6, 7, 8, 9, 10]\n",
    "print(list[0:5])  # First five elements\n",
    "print(list[5:])   # Last five elements\n",
    "print(list[::2])  # Every second element\n",
    "print(list[::-1])  # Reversed list\n",
    "print(list[-1])  # Last element\n",
    "print(list[-2])  # Second to last element\n",
    "list.append(11)  # Adding an element to the end\n",
    "print(list)\n"
   ]
  },
  {
   "cell_type": "code",
   "execution_count": 9,
   "metadata": {},
   "outputs": [
    {
     "name": "stdout",
     "output_type": "stream",
     "text": [
      "Index: 0, Number: 1\n",
      "Index: 1, Number: 2\n",
      "Index: 2, Number: 3\n",
      "Index: 3, Number: 4\n",
      "Index: 4, Number: 5\n",
      "Index: 5, Number: 6\n",
      "Index: 6, Number: 7\n",
      "Index: 7, Number: 8\n",
      "Index: 8, Number: 9\n",
      "Index: 9, Number: 10\n",
      "Index: 10, Number: 11\n"
     ]
    }
   ],
   "source": [
    "\n",
    "for index,number in enumerate(list):\n",
    "    print(f\"Index: {index}, Number: {number}\")"
   ]
  },
  {
   "cell_type": "code",
   "execution_count": 12,
   "metadata": {},
   "outputs": [
    {
     "data": {
      "text/plain": [
       "[0,\n",
       " 1,\n",
       " 4,\n",
       " 9,\n",
       " 16,\n",
       " 25,\n",
       " 36,\n",
       " 49,\n",
       " 64,\n",
       " 81,\n",
       " 100,\n",
       " 121,\n",
       " 144,\n",
       " 169,\n",
       " 196,\n",
       " 225,\n",
       " 256,\n",
       " 289,\n",
       " 324,\n",
       " 361,\n",
       " 400,\n",
       " 441,\n",
       " 484,\n",
       " 529,\n",
       " 576,\n",
       " 625,\n",
       " 676,\n",
       " 729,\n",
       " 784,\n",
       " 841,\n",
       " 900,\n",
       " 961,\n",
       " 1024,\n",
       " 1089,\n",
       " 1156,\n",
       " 1225,\n",
       " 1296,\n",
       " 1369,\n",
       " 1444,\n",
       " 1521,\n",
       " 1600,\n",
       " 1681,\n",
       " 1764,\n",
       " 1849,\n",
       " 1936,\n",
       " 2025,\n",
       " 2116,\n",
       " 2209,\n",
       " 2304,\n",
       " 2401,\n",
       " 2500,\n",
       " 2601,\n",
       " 2704,\n",
       " 2809,\n",
       " 2916,\n",
       " 3025,\n",
       " 3136,\n",
       " 3249,\n",
       " 3364,\n",
       " 3481,\n",
       " 3600,\n",
       " 3721,\n",
       " 3844,\n",
       " 3969,\n",
       " 4096,\n",
       " 4225,\n",
       " 4356,\n",
       " 4489,\n",
       " 4624,\n",
       " 4761,\n",
       " 4900,\n",
       " 5041,\n",
       " 5184,\n",
       " 5329,\n",
       " 5476,\n",
       " 5625,\n",
       " 5776,\n",
       " 5929,\n",
       " 6084,\n",
       " 6241,\n",
       " 6400,\n",
       " 6561,\n",
       " 6724,\n",
       " 6889,\n",
       " 7056,\n",
       " 7225,\n",
       " 7396,\n",
       " 7569,\n",
       " 7744,\n",
       " 7921,\n",
       " 8100,\n",
       " 8281,\n",
       " 8464,\n",
       " 8649,\n",
       " 8836,\n",
       " 9025,\n",
       " 9216,\n",
       " 9409,\n",
       " 9604,\n",
       " 9801]"
      ]
     },
     "execution_count": 12,
     "metadata": {},
     "output_type": "execute_result"
    }
   ],
   "source": [
    "[x**2 for x in range(100)]\n"
   ]
  },
  {
   "cell_type": "code",
   "execution_count": 13,
   "metadata": {},
   "outputs": [
    {
     "name": "stdout",
     "output_type": "stream",
     "text": [
      "[0, 1, 4, 9, 16, 25, 36, 49, 64, 81]\n"
     ]
    }
   ],
   "source": [
    "squares = [x**2 for x in range(10)]\n",
    "print(squares)"
   ]
  },
  {
   "cell_type": "code",
   "execution_count": 15,
   "metadata": {},
   "outputs": [
    {
     "name": "stdout",
     "output_type": "stream",
     "text": [
      "[0, 1, 2, 3, 4, 5, 6, 7, 8, 9]\n"
     ]
    }
   ],
   "source": [
    "lst=[]\n",
    "for i in range (10):\n",
    "    i%2==0\n",
    "    lst.append(i)\n",
    "print(lst)"
   ]
  },
  {
   "cell_type": "code",
   "execution_count": 16,
   "metadata": {},
   "outputs": [
    {
     "name": "stdout",
     "output_type": "stream",
     "text": [
      "[0, 2, 4, 6, 8]\n"
     ]
    }
   ],
   "source": [
    "even_numbers = [i for i in range(10) if i % 2 == 0]\n",
    "print(even_numbers)"
   ]
  },
  {
   "cell_type": "code",
   "execution_count": 19,
   "metadata": {},
   "outputs": [
    {
     "name": "stdout",
     "output_type": "stream",
     "text": [
      "[[1, 11], [1, 12], [1, 13], [1, 14], [1, 15], [1, 16], [1, 17], [1, 18], [1, 19], [1, 20], [2, 11], [2, 12], [2, 13], [2, 14], [2, 15], [2, 16], [2, 17], [2, 18], [2, 19], [2, 20], [3, 11], [3, 12], [3, 13], [3, 14], [3, 15], [3, 16], [3, 17], [3, 18], [3, 19], [3, 20], [4, 11], [4, 12], [4, 13], [4, 14], [4, 15], [4, 16], [4, 17], [4, 18], [4, 19], [4, 20], [5, 11], [5, 12], [5, 13], [5, 14], [5, 15], [5, 16], [5, 17], [5, 18], [5, 19], [5, 20], [6, 11], [6, 12], [6, 13], [6, 14], [6, 15], [6, 16], [6, 17], [6, 18], [6, 19], [6, 20], [7, 11], [7, 12], [7, 13], [7, 14], [7, 15], [7, 16], [7, 17], [7, 18], [7, 19], [7, 20], [8, 11], [8, 12], [8, 13], [8, 14], [8, 15], [8, 16], [8, 17], [8, 18], [8, 19], [8, 20], [9, 11], [9, 12], [9, 13], [9, 14], [9, 15], [9, 16], [9, 17], [9, 18], [9, 19], [9, 20], [10, 11], [10, 12], [10, 13], [10, 14], [10, 15], [10, 16], [10, 17], [10, 18], [10, 19], [10, 20]]\n"
     ]
    }
   ],
   "source": [
    "lst1 =[1, 2, 3, 4, 5, 6, 7, 8, 9, 10]\n",
    "lst2 = [11, 12, 13, 14, 15, 16, 17, 18, 19, 20]\n",
    "pairs =[[i,j] for i in lst1 for j in lst2]\n",
    "print(pairs)\n"
   ]
  },
  {
   "cell_type": "code",
   "execution_count": 20,
   "metadata": {},
   "outputs": [
    {
     "name": "stdout",
     "output_type": "stream",
     "text": [
      "['Buy groceries', 'Clean the house', 'Pay bills', 'Walk the dog']\n",
      "reminder to clean the house\n",
      "['Buy groceries', 'Call mom', 'Clean the house', 'Pay bills', 'Walk the dog']\n",
      "Buy groceries\n",
      "Call mom\n",
      "Clean the house\n",
      "Pay bills\n",
      "Walk the dog\n"
     ]
    }
   ],
   "source": [
    "to_do_list= ['Buy groceries', 'Clean the house', 'Pay bills']\n",
    "\n",
    "to_do_list.append('Walk the dog')\n",
    "print(to_do_list)\n",
    "to_do_list.insert(1, 'Call mom')\n",
    "if 'Clean the house' in to_do_list:\n",
    "    print(\"reminder to clean the house\")\n",
    "print(to_do_list)\n",
    "for task in to_do_list:\n",
    "    print(task)\n",
    "    \n",
    "    \n"
   ]
  },
  {
   "cell_type": "code",
   "execution_count": 21,
   "metadata": {},
   "outputs": [
    {
     "name": "stdout",
     "output_type": "stream",
     "text": [
      "Average grade: 86.6\n",
      "Highest grade: 92\n",
      "Lowest grade: 78\n"
     ]
    }
   ],
   "source": [
    "grades = [85, 90, 78, 92, 88]\n",
    "average = sum(grades) / len(grades)\n",
    "print(f\"Average grade: {average}\")\n",
    "\n",
    "highest_grade = max(grades)\n",
    "lowest_grade = min(grades)\n",
    "print(f\"Highest grade: {highest_grade}\")\n",
    "print(f\"Lowest grade: {lowest_grade}\")\n"
   ]
  },
  {
   "cell_type": "code",
   "execution_count": 22,
   "metadata": {},
   "outputs": [
    {
     "name": "stdout",
     "output_type": "stream",
     "text": [
      "<class 'tuple'>\n"
     ]
    }
   ],
   "source": [
    "empty_tuple = ()\n",
    "print(type(empty_tuple))"
   ]
  },
  {
   "cell_type": "code",
   "execution_count": 25,
   "metadata": {},
   "outputs": [
    {
     "data": {
      "text/plain": [
       "(1, 2, 3, 4, 5)"
      ]
     },
     "execution_count": 25,
     "metadata": {},
     "output_type": "execute_result"
    }
   ],
   "source": [
    "\n",
    "numbers=tuple([1, 2, 3, 4, 5])\n",
    "numbers"
   ]
  },
  {
   "cell_type": "code",
   "execution_count": 27,
   "metadata": {},
   "outputs": [
    {
     "name": "stdout",
     "output_type": "stream",
     "text": [
      "(1, 'Hello', 3.14, True)\n"
     ]
    }
   ],
   "source": [
    "mixed_tuple = (1, \"Hello\", 3.14, True)\n",
    "print(mixed_tuple)\n"
   ]
  },
  {
   "cell_type": "code",
   "execution_count": 29,
   "metadata": {},
   "outputs": [
    {
     "data": {
      "text/plain": [
       "2"
      ]
     },
     "execution_count": 29,
     "metadata": {},
     "output_type": "execute_result"
    }
   ],
   "source": [
    "numbers[1]"
   ]
  },
  {
   "cell_type": "code",
   "execution_count": 30,
   "metadata": {},
   "outputs": [
    {
     "name": "stdout",
     "output_type": "stream",
     "text": [
      "1\n",
      "2\n",
      "Hello\n"
     ]
    }
   ],
   "source": [
    "print(numbers.count(2))  # Count occurrences of 2\n",
    "print(numbers.index(3))  # Find index of 3\n",
    "print(mixed_tuple[1])  # Access second element"
   ]
  },
  {
   "cell_type": "code",
   "execution_count": 31,
   "metadata": {},
   "outputs": [
    {
     "name": "stdout",
     "output_type": "stream",
     "text": [
      "<class 'set'>\n"
     ]
    }
   ],
   "source": [
    "my_set={1,2,3,4,5}\n",
    "print(type(my_set))"
   ]
  },
  {
   "cell_type": "code",
   "execution_count": 33,
   "metadata": {},
   "outputs": [
    {
     "name": "stdout",
     "output_type": "stream",
     "text": [
      "True\n",
      "False\n"
     ]
    }
   ],
   "source": [
    "my_set={1, 2, 3, 4, 5}\n",
    "print(3 in my_set)  # Check if 3 is in the set\n",
    "print(10 in my_set)"
   ]
  },
  {
   "cell_type": "code",
   "execution_count": null,
   "metadata": {},
   "outputs": [
    {
     "ename": "SyntaxError",
     "evalue": "cannot assign to attribute here. Maybe you meant '==' instead of '='? (2328074759.py, line 5)",
     "output_type": "error",
     "traceback": [
      "\u001b[1;36m  Cell \u001b[1;32mIn[36], line 5\u001b[1;36m\u001b[0m\n\u001b[1;33m    print((set.difference = set1.difference(set2)))\u001b[0m\n\u001b[1;37m           ^\u001b[0m\n\u001b[1;31mSyntaxError\u001b[0m\u001b[1;31m:\u001b[0m cannot assign to attribute here. Maybe you meant '==' instead of '='?\n"
     ]
    }
   ],
   "source": [
    "set1={1, 2, 3}\n",
    "set2={3, 4, 5}\n",
    "union_set = set1.union(set2)\n",
    "print(union_set)  # Union of set1 and set2\n"
   ]
  },
  {
   "cell_type": "code",
   "execution_count": 38,
   "metadata": {},
   "outputs": [],
   "source": [
    "def function_name(parameters):\n",
    "    \"\"\"Docstring\"\"\"\n",
    "    #Function body\n",
    "    return result"
   ]
  },
  {
   "cell_type": "code",
   "execution_count": 39,
   "metadata": {},
   "outputs": [
    {
     "name": "stdout",
     "output_type": "stream",
     "text": [
      "Odd\n"
     ]
    }
   ],
   "source": [
    "num =21\n",
    "if num%2==0:\n",
    "    print(\"Even\")\n",
    "else:\n",
    "    print(\"Odd\")\n",
    "    "
   ]
  },
  {
   "cell_type": "code",
   "execution_count": 42,
   "metadata": {},
   "outputs": [],
   "source": [
    "def even_or_odd(num):\n",
    "    \"\"\"Check if a number is even or odd.\"\"\"\n",
    "    if num % 2 == 0:\n",
    "        return \"Even\"\n",
    "    else:\n",
    "        return \"Odd\"\n",
    "    \n",
    "num = 42"
   ]
  },
  {
   "cell_type": "code",
   "execution_count": 44,
   "metadata": {},
   "outputs": [
    {
     "data": {
      "text/plain": [
       "'Even'"
      ]
     },
     "execution_count": 44,
     "metadata": {},
     "output_type": "execute_result"
    }
   ],
   "source": [
    "even_or_odd(24)"
   ]
  },
  {
   "cell_type": "code",
   "execution_count": 46,
   "metadata": {},
   "outputs": [
    {
     "name": "stdout",
     "output_type": "stream",
     "text": [
      "The difference between 10 and 5 is: 5\n",
      "The sum of 5 and 10 is: 15\n"
     ]
    }
   ],
   "source": [
    "def add(a,b):\n",
    "    return a + b\n",
    "def sub(a,b):\n",
    "    return a - b\n",
    "    \n",
    "\n",
    "result = add(5, 10)\n",
    "result_sub = sub(10, 5)\n",
    "print(f\"The difference between 10 and 5 is: {result_sub}\")\n",
    "print(f\"The sum of 5 and 10 is: {result}\")      "
   ]
  },
  {
   "cell_type": "code",
   "execution_count": 48,
   "metadata": {},
   "outputs": [
    {
     "ename": "SyntaxError",
     "evalue": "Missing parentheses in call to 'print'. Did you mean print(...)? (1832911007.py, line 3)",
     "output_type": "error",
     "traceback": [
      "\u001b[1;36m  Cell \u001b[1;32mIn[48], line 3\u001b[1;36m\u001b[0m\n\u001b[1;33m    print{f\"Hello, {name}!\"}\u001b[0m\n\u001b[1;37m    ^\u001b[0m\n\u001b[1;31mSyntaxError\u001b[0m\u001b[1;31m:\u001b[0m Missing parentheses in call to 'print'. Did you mean print(...)?\n"
     ]
    }
   ],
   "source": [
    "  "
   ]
  },
  {
   "cell_type": "code",
   "execution_count": 50,
   "metadata": {},
   "outputs": [
    {
     "name": "stdout",
     "output_type": "stream",
     "text": [
      "Hello, zaid welcome to our hotel room!\n"
     ]
    }
   ],
   "source": [
    "def greet(name=\"guest\"):\n",
    "    \"\"\"Greet a person by name.\"\"\"\n",
    "    return f\"Hello, {name} welcome to our hotel room!\"\n",
    "print(greet(\"zaid\"))  # Default name"
   ]
  },
  {
   "cell_type": "code",
   "execution_count": 60,
   "metadata": {},
   "outputs": [
    {
     "name": "stdout",
     "output_type": "stream",
     "text": [
      "Name: zaidsjndjfd, Age: 231\n"
     ]
    }
   ],
   "source": [
    "def items(data1,data2,data3):\n",
    "    \"\"\"Display items.\"\"\"\n",
    "    name = data1.get(\"name\", \"Unknown\")\n",
    "    age = data1.get(\"age\", \"Unknown\")\n",
    "    name = data2.get(\"name\", \"Unknown\")\n",
    "    age = data2.get(\"age\", \"Unknown\")\n",
    "    name = data3.get(\"name\", \"Unknown\")\n",
    "    age = data3.get(\"age\", \"Unknown\")\n",
    "    return f\"Name: {name}, Age: {age}\"\n",
    "\n",
    "# Example usage\n",
    "data1 = {\"name\": \"zaid\", \"age\": 21}\n",
    "data2 = {\"name\": \"zaidvhfn\", \"age\": 22}\n",
    "data3 = {\"name\": \"zaidsjndjfd\", \"age\": 231}\n",
    "print(items(data1, data2, data3))"
   ]
  },
  {
   "cell_type": "code",
   "execution_count": 61,
   "metadata": {},
   "outputs": [],
   "source": [
    "def print_numbers(*args):\n",
    "    \"\"\"Print numbers.\"\"\"\n",
    "    for num in args:\n",
    "        print(num)"
   ]
  },
  {
   "cell_type": "code",
   "execution_count": 62,
   "metadata": {},
   "outputs": [
    {
     "name": "stdout",
     "output_type": "stream",
     "text": [
      "1\n",
      "2\n",
      "3\n",
      "4\n",
      "5\n"
     ]
    }
   ],
   "source": [
    "print_numbers(1, 2, 3, 4, 5)  # Example usage"
   ]
  },
  {
   "cell_type": "code",
   "execution_count": 63,
   "metadata": {},
   "outputs": [],
   "source": [
    "def print_numbers_with_keyword(**kwargs):\n",
    "    \"\"\"Print numbers with keyword arguments.\"\"\"\n",
    "    for key, value in kwargs.items():\n",
    "        print(f\"{key}: {value}\")"
   ]
  },
  {
   "cell_type": "code",
   "execution_count": 65,
   "metadata": {},
   "outputs": [
    {
     "name": "stdout",
     "output_type": "stream",
     "text": [
      "name: zaid\n",
      "age: 22\n",
      "c: 3\n"
     ]
    }
   ],
   "source": [
    "print_numbers_with_keyword(name=\"zaid\", age=22, c=3)  # Example usage"
   ]
  },
  {
   "cell_type": "code",
   "execution_count": 66,
   "metadata": {},
   "outputs": [
    {
     "name": "stdout",
     "output_type": "stream",
     "text": [
      "postition: 1\n",
      "postition: 2\n",
      "postition: 3\n",
      "keyword: name, value: zaid\n",
      "keyword: age, value: 22\n",
      "keyword: c, value: 3\n"
     ]
    }
   ],
   "source": [
    "def print_detils(*args, **kwargs):\n",
    "    for val in args:\n",
    "        print(f\"postition: {val}\")\n",
    "    for key, value in kwargs.items():\n",
    "        print(f\"keyword: {key}, value: {value}\")\n",
    "\n",
    "print_detils(1, 2, 3, name=\"zaid\", age=22, c=3)  # Example usage"
   ]
  },
  {
   "cell_type": "code",
   "execution_count": 67,
   "metadata": {},
   "outputs": [],
   "source": [
    "def multiply(*args):\n",
    "    \"\"\"Multiply all numbers.\"\"\"\n",
    "    result = 1\n",
    "    for num in args:\n",
    "        result *= num\n",
    "    return result"
   ]
  },
  {
   "cell_type": "code",
   "execution_count": 68,
   "metadata": {},
   "outputs": [
    {
     "data": {
      "text/plain": [
       "68"
      ]
     },
     "execution_count": 68,
     "metadata": {},
     "output_type": "execute_result"
    }
   ],
   "source": [
    "multiply(2,34)"
   ]
  },
  {
   "cell_type": "code",
   "execution_count": 69,
   "metadata": {},
   "outputs": [],
   "source": [
    "def convert_temp(tmep,unit):\n",
    "    \"\"\"Convert temperature between Celsius and Fahrenheit.\"\"\"\n",
    "    if unit.lower() == 'c':\n",
    "        return (tmep * 9/5) + 32  # Celsius to Fahrenheit\n",
    "    elif unit.lower() == 'f':\n",
    "        return (tmep - 32) * 5/9  # Fahrenheit to Celsius\n",
    "    else:\n",
    "        raise ValueError(\"Unit must be 'C' or 'F'\")"
   ]
  },
  {
   "cell_type": "code",
   "execution_count": 72,
   "metadata": {},
   "outputs": [
    {
     "data": {
      "text/plain": [
       "37.77777777777778"
      ]
     },
     "execution_count": 72,
     "metadata": {},
     "output_type": "execute_result"
    }
   ],
   "source": [
    "convert_temp(33, 'C')  # Convert 100°C to Fahrenheit\n",
    "convert_temp(100, 'F')  # Convert 100°F to Celsius"
   ]
  },
  {
   "cell_type": "code",
   "execution_count": 73,
   "metadata": {},
   "outputs": [],
   "source": [
    "def is_strng_password(password):\n",
    "    \"\"\"Check if the password is strong.\"\"\"\n",
    "    if len(password) < 8:\n",
    "        return False\n",
    "    if not any(char.isdigit() for char in password):\n",
    "        return False\n",
    "    if not any(char.isupper() for char in password):\n",
    "        return False\n",
    "    if not any(char.islower() for char in password):\n",
    "        return False\n",
    "    return True"
   ]
  },
  {
   "cell_type": "code",
   "execution_count": 74,
   "metadata": {},
   "outputs": [
    {
     "data": {
      "text/plain": [
       "True"
      ]
     },
     "execution_count": 74,
     "metadata": {},
     "output_type": "execute_result"
    }
   ],
   "source": [
    "is_strng_password(\"Zaid1234\")  # Example usage"
   ]
  },
  {
   "cell_type": "code",
   "execution_count": 76,
   "metadata": {},
   "outputs": [
    {
     "name": "stdout",
     "output_type": "stream",
     "text": [
      "Total cost of items in the cart: $6.20\n"
     ]
    }
   ],
   "source": [
    "def calculate_total_cost(cart):\n",
    "    \"\"\"Calculate the total cost of items in the cart.\"\"\"\n",
    "    total_cost = 0\n",
    "    for item in cart:\n",
    "        total_cost += item['price'] * item['quantity']\n",
    "    return total_cost\n",
    "cart = [\n",
    "    {'name': 'Apple', 'price': 0.5, 'quantity': 4},\n",
    "    {'name': 'Banana', 'price': 0.3, 'quantity': 6},\n",
    "    {'name': 'Orange', 'price': 0.8, 'quantity': 3}\n",
    "]\n",
    "total_cost = calculate_total_cost(cart) \n",
    "print(f\"Total cost of items in the cart: ${total_cost:.2f}\")\n"
   ]
  },
  {
   "cell_type": "code",
   "execution_count": 77,
   "metadata": {},
   "outputs": [
    {
     "name": "stdout",
     "output_type": "stream",
     "text": [
      "False\n"
     ]
    }
   ],
   "source": [
    "def is_palindrome(s):\n",
    "    \"\"\"Check if a string is a palindrome.\"\"\"\n",
    "    s = s.lower().replace(\" \", \"\")  # Normalize the string\n",
    "    return s == s[::-1]  # Check if the string is equal to its reverse\n",
    "print(is_palindrome(\"a man plan a canal panama\"))  # Example usage\n",
    "    "
   ]
  },
  {
   "cell_type": "code",
   "execution_count": 82,
   "metadata": {},
   "outputs": [
    {
     "name": "stdout",
     "output_type": "stream",
     "text": [
      "{'my': 2, 'name': 1, 'is': 2, 'zaid': 1, 'and': 1, 'borther': 1, 'abdul': 1, 'hadi': 1}\n"
     ]
    }
   ],
   "source": [
    "def count_word_frequency(file_path):\n",
    "    \"\"\"Count the frequency of words in a text file.\"\"\"\n",
    "    word_count = {}\n",
    "    with open(file_path, 'r') as file:\n",
    "        for line in file:\n",
    "            words = line.split()\n",
    "            for word in words:\n",
    "                word = word.lower().strip('.,!?\";:()[]{}')  # Normalize the word\n",
    "                word_count[word] = word_count.get(word, 0) + 1  # Count the word\n",
    "    return word_count\n",
    "filepath='sample.txt'\n",
    "word_frequncy= count_word_frequency(filepath)\n",
    "print(word_frequncy)"
   ]
  },
  {
   "cell_type": "code",
   "execution_count": 83,
   "metadata": {},
   "outputs": [
    {
     "name": "stdout",
     "output_type": "stream",
     "text": [
      "Addition: 8\n",
      "Subtraction: 2\n",
      "Multiplication: 15\n"
     ]
    }
   ],
   "source": [
    "addition=lambda a, b: a + b\n",
    "subtraction = lambda a, b: a - b\n",
    "multiplication = lambda a, b: a * b\n",
    "\n",
    "print(f\"Addition: {addition(5, 3)}\")\n",
    "print(f\"Subtraction: {subtraction(5, 3)}\")\n",
    "print(f\"Multiplication: {multiplication(5, 3)}\")"
   ]
  },
  {
   "cell_type": "code",
   "execution_count": 85,
   "metadata": {},
   "outputs": [
    {
     "ename": "TypeError",
     "evalue": "my_list() takes 0 positional arguments but 1 was given",
     "output_type": "error",
     "traceback": [
      "\u001b[1;31m---------------------------------------------------------------------------\u001b[0m",
      "\u001b[1;31mTypeError\u001b[0m                                 Traceback (most recent call last)",
      "Cell \u001b[1;32mIn[85], line 3\u001b[0m\n\u001b[0;32m      1\u001b[0m \u001b[38;5;28;01mdef\u001b[39;00m \u001b[38;5;21mmy_list\u001b[39m():\n\u001b[0;32m      2\u001b[0m     \u001b[38;5;28;01mreturn\u001b[39;00m \u001b[38;5;28msum\u001b[39m(my_list)\n\u001b[1;32m----> 3\u001b[0m \u001b[43mmy_list\u001b[49m\u001b[43m(\u001b[49m\u001b[43m[\u001b[49m\u001b[38;5;241;43m1\u001b[39;49m\u001b[43m,\u001b[49m\u001b[38;5;241;43m2\u001b[39;49m\u001b[43m,\u001b[49m\u001b[38;5;241;43m3\u001b[39;49m\u001b[43m,\u001b[49m\u001b[38;5;241;43m4\u001b[39;49m\u001b[43m,\u001b[49m\u001b[38;5;241;43m5\u001b[39;49m\u001b[43m]\u001b[49m\u001b[43m)\u001b[49m\n\u001b[0;32m      4\u001b[0m \u001b[38;5;28mprint\u001b[39m(my_list)  \u001b[38;5;66;03m# Example usage\u001b[39;00m\n",
      "\u001b[1;31mTypeError\u001b[0m: my_list() takes 0 positional arguments but 1 was given"
     ]
    }
   ],
   "source": [
    "def my_list():\n",
    "    return sum(my_list)\n",
    "my_list([1,2,3,4,5])\n",
    "print(my_list)  # Example usage"
   ]
  },
  {
   "cell_type": "code",
   "execution_count": 86,
   "metadata": {},
   "outputs": [
    {
     "name": "stdout",
     "output_type": "stream",
     "text": [
      "The largest number in the list is: 10\n"
     ]
    }
   ],
   "source": [
    "def find_larges(lst):\n",
    "    largest=lst[0]\n",
    "    for num in lst:\n",
    "        if num > largest:\n",
    "            largest = num\n",
    "    return largest\n",
    "my_list = [1, 2, 3, 4, 5, 6, 7, 8, 9, 10]\n",
    "result = find_larges(my_list)\n",
    "print(f\"The largest number in the list is: {result}\")   "
   ]
  },
  {
   "cell_type": "code",
   "execution_count": 88,
   "metadata": {},
   "outputs": [
    {
     "name": "stdout",
     "output_type": "stream",
     "text": [
      "Unique list: [1, 2, 3, 4, 5, 6, 7, 8, 9, 10]\n"
     ]
    }
   ],
   "source": [
    "my_list = [1, 2, 3, 4, 5, 6, 7, 8,8,9, 9, 10]\n",
    "\n",
    "unique_list=[]\n",
    "for item in my_list:\n",
    "    if item not in unique_list:\n",
    "        unique_list.append(item)\n",
    "print(f\"Unique list: {unique_list}\")    "
   ]
  },
  {
   "cell_type": "code",
   "execution_count": 89,
   "metadata": {},
   "outputs": [
    {
     "data": {
      "text/plain": [
       "4.0"
      ]
     },
     "execution_count": 89,
     "metadata": {},
     "output_type": "execute_result"
    }
   ],
   "source": [
    "import math\n",
    "math.sqrt(16)"
   ]
  },
  {
   "cell_type": "code",
   "execution_count": 91,
   "metadata": {},
   "outputs": [
    {
     "name": "stdout",
     "output_type": "stream",
     "text": [
      "4.0\n",
      "3.141592653589793\n"
     ]
    }
   ],
   "source": [
    "from math import sqrt,pi\n",
    "print(sqrt(16))  # Example usage\n",
    "print(pi)  # Example usage"
   ]
  },
  {
   "cell_type": "code",
   "execution_count": 94,
   "metadata": {},
   "outputs": [
    {
     "name": "stdout",
     "output_type": "stream",
     "text": [
      "[1 2 3 4 5]\n"
     ]
    }
   ],
   "source": [
    "import numpy as np\n",
    "arr = np.array([1, 2, 3, 4, 5])\n",
    "print (arr) # Example usage"
   ]
  },
  {
   "cell_type": "code",
   "execution_count": 95,
   "metadata": {},
   "outputs": [
    {
     "name": "stdout",
     "output_type": "stream",
     "text": [
      "4.0\n",
      "3.141592653589793\n",
      "7\n"
     ]
    }
   ],
   "source": [
    "from math import *\n",
    "print(sqrt(16))  # Example usage   \n",
    "print(pi)  # Example usage\n",
    "import random\n",
    "print(random.randint(1, 10))  # Random integer between 1 and 10\n"
   ]
  },
  {
   "cell_type": "code",
   "execution_count": 101,
   "metadata": {},
   "outputs": [
    {
     "name": "stdout",
     "output_type": "stream",
     "text": [
      "The sum of 5 and 10 is: 15\n"
     ]
    }
   ],
   "source": [
    "from package.maths import addition# type: ignore\n",
    "result_add = add(5, 10)\n",
    "print(f\"The sum of 5 and 10 is: {result_add}\")\n",
    "result_sub = sub(10, 5)"
   ]
  },
  {
   "cell_type": "code",
   "execution_count": 102,
   "metadata": {},
   "outputs": [
    {
     "name": "stdout",
     "output_type": "stream",
     "text": [
      "c:\\Users\\USER\\OneDrive\\Desktop\\Python\\venv\n"
     ]
    }
   ],
   "source": [
    "import os\n",
    "print(os.getcwd())  # Get current working directory "
   ]
  },
  {
   "cell_type": "code",
   "execution_count": 103,
   "metadata": {},
   "outputs": [],
   "source": [
    "os.mkdir('new_directory')  # Create a new directory"
   ]
  },
  {
   "cell_type": "code",
   "execution_count": 105,
   "metadata": {},
   "outputs": [
    {
     "data": {
      "text/plain": [
       "'destination.txt'"
      ]
     },
     "execution_count": 105,
     "metadata": {},
     "output_type": "execute_result"
    }
   ],
   "source": [
    "import shutil\n",
    "shutil.copy('source.txt', 'destination.txt')  # Copy a file"
   ]
  },
  {
   "cell_type": "code",
   "execution_count": 106,
   "metadata": {},
   "outputs": [],
   "source": [
    "import json\n",
    "data = {'name': 'Alice', 'age': 30}\n",
    "json_string = json.dumps(data)  # Convert dictionary to JSON string\n",
    "data_loaded = json.loads(json_string)  # Convert JSON string back to dictionary"
   ]
  },
  {
   "cell_type": "code",
   "execution_count": 108,
   "metadata": {},
   "outputs": [
    {
     "name": "stdout",
     "output_type": "stream",
     "text": [
      "{\"name\": \"Alice\", \"age\": 30}\n"
     ]
    }
   ],
   "source": [
    "print(json_string)  # Example usage"
   ]
  },
  {
   "cell_type": "code",
   "execution_count": 109,
   "metadata": {},
   "outputs": [
    {
     "name": "stdout",
     "output_type": "stream",
     "text": [
      "['Name', 'Age']\n",
      "['Alice', '30']\n"
     ]
    }
   ],
   "source": [
    "import csv\n",
    "with open('data.csv', mode='w', newline='') as file:\n",
    "    writer = csv.writer(file)\n",
    "    writer.writerow(['Name', 'Age'])\n",
    "    writer.writerow(['Alice', 30])  \n",
    "with open('data.csv', mode='r') as file:\n",
    "    reader = csv.reader(file)\n",
    "    for row in reader:\n",
    "        print(row)  # Print each row in the CSV file    "
   ]
  },
  {
   "cell_type": "code",
   "execution_count": 110,
   "metadata": {},
   "outputs": [
    {
     "name": "stdout",
     "output_type": "stream",
     "text": [
      "my name is zaid \n",
      "and my borther is abdul hadi\n"
     ]
    }
   ],
   "source": [
    "with open('sample.txt','r') as file:\n",
    "    content = file.read()  # Read the entire file\n",
    "    print(content)  # Print the content of the file"
   ]
  },
  {
   "cell_type": "code",
   "execution_count": 116,
   "metadata": {},
   "outputs": [],
   "source": [
    "### read a file line by line\n",
    "with open('source.txt', 'w') as file:\n",
    "    file.write(\"Hello, World!\\n\")\n",
    "   \n",
    "       # Print each line without extra spaces"
   ]
  },
  {
   "cell_type": "code",
   "execution_count": 117,
   "metadata": {},
   "outputs": [],
   "source": [
    "with open('sample.txt','a') as file:\n",
    "    file.write(\"\\nThis is an appended line.\")  # Append a line to the file"
   ]
  },
  {
   "cell_type": "code",
   "execution_count": 119,
   "metadata": {},
   "outputs": [
    {
     "name": "stdout",
     "output_type": "stream",
     "text": [
      "<class '__main__.car'>\n",
      "<__main__.car object at 0x000002626A356C60>\n"
     ]
    }
   ],
   "source": [
    "class car:\n",
    "    pass\n",
    "audi=car()\n",
    "BMW=car()\n",
    "print(type(audi))\n",
    "print(audi)"
   ]
  },
  {
   "cell_type": "code",
   "execution_count": 121,
   "metadata": {},
   "outputs": [
    {
     "name": "stdout",
     "output_type": "stream",
     "text": [
      "4\n",
      "2\n"
     ]
    }
   ],
   "source": [
    "audi .windows=4\n",
    "BMW .windows=2\n",
    "print(audi .windows)\n",
    "print(BMW .windows)"
   ]
  },
  {
   "cell_type": "code",
   "execution_count": 127,
   "metadata": {},
   "outputs": [
    {
     "name": "stdout",
     "output_type": "stream",
     "text": [
      "Buddy is 3 years old. and is a bulldog.\n",
      "Max is 5 years old.\n"
     ]
    }
   ],
   "source": [
    "class Dog:\n",
    "    ##Constructor\n",
    "    def __init__(self,name,age,breed):\n",
    "        self.name = name\n",
    "        self.age = age\n",
    "        self.breed=breed\n",
    "## create objects\n",
    "dog1=Dog(\"Buddy\", 3,\"bulldog\")\n",
    "dog2=Dog(\"Max\", 5,\"vodofone\")\n",
    "print(f\"{dog1.name} is {dog1.age} years old. and is a {dog1.breed}.\")\n",
    "print(f\"{dog2.name} is {dog2.age} years old.\")"
   ]
  },
  {
   "cell_type": "code",
   "execution_count": 133,
   "metadata": {},
   "outputs": [],
   "source": [
    "class Dog:\n",
    "    \"\"\"Dog class.\"\"\"\n",
    "    def __init__(self, name, age, breed):\n",
    "        self.name = name\n",
    "        self.age = age\n",
    "        self.breed = breed\n",
    "\n",
    "    def bark(self):\n",
    "        return f\"{self.name} says Woof!\"\n",
    "\n",
    "dog1 = Dog(\"Buddy\", 3, \"Bulldog\")\n",
    "dog1.bark()  # Example usage of the bark method\n",
    "dog2 = Dog(\"Max\", 5, \"Vodafone\")\n",
    "\n",
    "\n"
   ]
  },
  {
   "cell_type": "code",
   "execution_count": 135,
   "metadata": {},
   "outputs": [],
   "source": [
    "class Bank_acc:\n",
    "    def __init__(self, name, balance=0):\n",
    "        self.name = name\n",
    "        self.balance = balance\n",
    "    \n",
    "    def deposit(self, amount):\n",
    "        \"\"\"Deposit money into the account.\"\"\"\n",
    "        if amount > 0:\n",
    "            self.balance += amount\n",
    "            return f\"Deposited {amount}. New balance: {self.balance}\"\n",
    "        else:\n",
    "            return \"Deposit amount must be positive.\"\n",
    "        \n",
    "    def withdraw(self, amount):\n",
    "        \"\"\"Withdraw money from the account.\"\"\"\n",
    "        if amount > 0 and amount <= self.balance:\n",
    "            self.balance -= amount\n",
    "            return f\"Withdrew {amount}. New balance: {self.balance}\"\n",
    "        else:\n",
    "            return \"Insufficient funds or invalid withdrawal amount.\"\n",
    "    \n",
    "    def get_balance(self):\n",
    "        \"\"\"Get the current balance.\"\"\"\n",
    "        return f\"Current balance: {self.balance}\"\n",
    "# Example usage\n",
    "account = Bank_acc(\"Zaid\", 1000)"
   ]
  },
  {
   "cell_type": "code",
   "execution_count": 136,
   "metadata": {},
   "outputs": [
    {
     "name": "stdout",
     "output_type": "stream",
     "text": [
      "Current balance: 1500\n"
     ]
    }
   ],
   "source": [
    "account.deposit(500)  # Deposit money\n",
    "print(account.get_balance())  # Get current balance"
   ]
  },
  {
   "cell_type": "code",
   "execution_count": 137,
   "metadata": {},
   "outputs": [
    {
     "name": "stdout",
     "output_type": "stream",
     "text": [
      "Current balance: 1300\n"
     ]
    }
   ],
   "source": [
    "account.withdraw(200)  # Withdraw money \n",
    "print(account.get_balance())  # Get current balance"
   ]
  },
  {
   "cell_type": "code",
   "execution_count": null,
   "metadata": {},
   "outputs": [],
   "source": []
  }
 ],
 "metadata": {
  "kernelspec": {
   "display_name": "Python 3",
   "language": "python",
   "name": "python3"
  },
  "language_info": {
   "codemirror_mode": {
    "name": "ipython",
    "version": 3
   },
   "file_extension": ".py",
   "mimetype": "text/x-python",
   "name": "python",
   "nbconvert_exporter": "python",
   "pygments_lexer": "ipython3",
   "version": "3.12.4"
  }
 },
 "nbformat": 4,
 "nbformat_minor": 2
}
