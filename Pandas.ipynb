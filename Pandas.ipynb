{
 "cells": [
  {
   "cell_type": "code",
   "execution_count": 5,
   "metadata": {},
   "outputs": [],
   "source": [
    "import pandas as pd"
   ]
  },
  {
   "cell_type": "code",
   "execution_count": 7,
   "metadata": {},
   "outputs": [
    {
     "name": "stdout",
     "output_type": "stream",
     "text": [
      "Series:\n",
      "<class 'pandas.core.series.Series'>\n"
     ]
    }
   ],
   "source": [
    "## Series\n",
    "data=[1, 2, 3, 4, 5]\n",
    "series = pd.Series(data)\n",
    "print(\"Series:\")\n",
    "print(type(series))"
   ]
  },
  {
   "cell_type": "code",
   "execution_count": 9,
   "metadata": {},
   "outputs": [
    {
     "name": "stdout",
     "output_type": "stream",
     "text": [
      "\n",
      "Series from dict: a    1\n",
      "b    2\n",
      "c    3\n",
      "dtype: int64\n",
      "<class 'pandas.core.series.Series'>\n"
     ]
    }
   ],
   "source": [
    "## Create a series from dict\n",
    "data_dict = {'a': 1, 'b': 2, 'c': 3}\n",
    "series_from_dict = pd.Series(data_dict)\n",
    "print(\"\\nSeries from dict:\",series_from_dict)\n",
    "print(type(series_from_dict))   "
   ]
  },
  {
   "cell_type": "code",
   "execution_count": 10,
   "metadata": {},
   "outputs": [
    {
     "name": "stdout",
     "output_type": "stream",
     "text": [
      "\n",
      "Series with custom index:\n",
      "a    1\n",
      "b    2\n",
      "c    3\n",
      "d    4\n",
      "e    5\n",
      "dtype: int64\n",
      "\n",
      "Accessing elements in a series:\n",
      "First element: 1\n"
     ]
    }
   ],
   "source": [
    "data=[1, 2, 3, 4, 5]\n",
    "# Create a series with custom index\n",
    "index = ['a', 'b', 'c', 'd', 'e']\n",
    "series_with_index = pd.Series(data, index=index)\n",
    "print(\"\\nSeries with custom index:\")\n",
    "print(series_with_index)\n",
    "# Accessing elements in a series\n",
    "print(\"\\nAccessing elements in a series:\")\n",
    "print(\"First element:\", series_with_index['a'])\n",
    "\n",
    "    "
   ]
  },
  {
   "cell_type": "code",
   "execution_count": 12,
   "metadata": {},
   "outputs": [
    {
     "name": "stdout",
     "output_type": "stream",
     "text": [
      "      name  age         city\n",
      "0    Alice   25     New York\n",
      "1      Bob   30  Los Angeles\n",
      "2  Charlie   35      Chicago\n"
     ]
    }
   ],
   "source": [
    "## CReate a DataFrame from dict od lists\n",
    "data = {\n",
    "    'name': ['Alice', 'Bob', 'Charlie'],\n",
    "    'age': [25, 30, 35],\n",
    "    'city': ['New York', 'Los Angeles', 'Chicago']\n",
    "}\n",
    "df= pd.DataFrame(data)\n",
    "print(df)\n"
   ]
  },
  {
   "cell_type": "code",
   "execution_count": 15,
   "metadata": {},
   "outputs": [
    {
     "data": {
      "text/plain": [
       "array([['Alice', 25, 'New York'],\n",
       "       ['Bob', 30, 'Los Angeles'],\n",
       "       ['Charlie', 35, 'Chicago']], dtype=object)"
      ]
     },
     "execution_count": 15,
     "metadata": {},
     "output_type": "execute_result"
    }
   ],
   "source": [
    "import numpy as np\n",
    "np.array(df)"
   ]
  },
  {
   "cell_type": "code",
   "execution_count": 16,
   "metadata": {},
   "outputs": [],
   "source": [
    "## Create a dataframe from a list of dicts\n",
    "data_list_of_dicts = [\n",
    "    {'name': 'Alice', 'age': 25, 'city': 'New York'},\n",
    "    {'name': 'Bob', 'age': 30, 'city': 'Los Angeles'},\n",
    "    {'name': 'Charlie', 'age': 35, 'city': 'Chicago'}\n",
    "]"
   ]
  },
  {
   "cell_type": "code",
   "execution_count": 23,
   "metadata": {},
   "outputs": [
    {
     "name": "stdout",
     "output_type": "stream",
     "text": [
      "      name  age         city\n",
      "0    Alice   25     New York\n",
      "1      Bob   30  Los Angeles\n",
      "2  Charlie   35      Chicago\n",
      "<class 'pandas.core.frame.DataFrame'>\n"
     ]
    }
   ],
   "source": [
    "df = pd.DataFrame(data_list_of_dicts)\n",
    "print ( df)\n",
    "print(type(df))"
   ]
  },
  {
   "cell_type": "code",
   "execution_count": 34,
   "metadata": {},
   "outputs": [
    {
     "name": "stdout",
     "output_type": "stream",
     "text": [
      "     Transaction ID        Date Product Category  \\\n",
      "0             10001  2024-01-01      Electronics   \n",
      "1             10002  2024-01-02  Home Appliances   \n",
      "2             10003  2024-01-03         Clothing   \n",
      "3             10004  2024-01-04            Books   \n",
      "4             10005  2024-01-05  Beauty Products   \n",
      "..              ...         ...              ...   \n",
      "235           10236  2024-08-23  Home Appliances   \n",
      "236           10237  2024-08-24         Clothing   \n",
      "237           10238  2024-08-25            Books   \n",
      "238           10239  2024-08-26  Beauty Products   \n",
      "239           10240  2024-08-27           Sports   \n",
      "\n",
      "                                        Product Name  Units Sold  Unit Price  \\\n",
      "0                                      iPhone 14 Pro           2      999.99   \n",
      "1                                   Dyson V11 Vacuum           1      499.99   \n",
      "2                                   Levi's 501 Jeans           3       69.99   \n",
      "3                                  The Da Vinci Code           4       15.99   \n",
      "4                            Neutrogena Skincare Set           1       89.99   \n",
      "..                                               ...         ...         ...   \n",
      "235  Nespresso Vertuo Next Coffee and Espresso Maker           1      159.99   \n",
      "236                        Nike Air Force 1 Sneakers           3       90.00   \n",
      "237           The Handmaid's Tale by Margaret Atwood           3       10.99   \n",
      "238             Sunday Riley Luna Sleeping Night Oil           1       55.00   \n",
      "239                       Yeti Rambler 20 oz Tumbler           2       29.99   \n",
      "\n",
      "     Total Revenue         Region Payment Method  \n",
      "0          1999.98  North America    Credit Card  \n",
      "1           499.99         Europe         PayPal  \n",
      "2           209.97           Asia     Debit Card  \n",
      "3            63.96  North America    Credit Card  \n",
      "4            89.99         Europe         PayPal  \n",
      "..             ...            ...            ...  \n",
      "235         159.99         Europe         PayPal  \n",
      "236         270.00           Asia     Debit Card  \n",
      "237          32.97  North America    Credit Card  \n",
      "238          55.00         Europe         PayPal  \n",
      "239          59.98           Asia    Credit Card  \n",
      "\n",
      "[240 rows x 9 columns]\n"
     ]
    },
    {
     "data": {
      "text/html": [
       "<div>\n",
       "<style scoped>\n",
       "    .dataframe tbody tr th:only-of-type {\n",
       "        vertical-align: middle;\n",
       "    }\n",
       "\n",
       "    .dataframe tbody tr th {\n",
       "        vertical-align: top;\n",
       "    }\n",
       "\n",
       "    .dataframe thead th {\n",
       "        text-align: right;\n",
       "    }\n",
       "</style>\n",
       "<table border=\"1\" class=\"dataframe\">\n",
       "  <thead>\n",
       "    <tr style=\"text-align: right;\">\n",
       "      <th></th>\n",
       "      <th>Transaction ID</th>\n",
       "      <th>Date</th>\n",
       "      <th>Product Category</th>\n",
       "      <th>Product Name</th>\n",
       "      <th>Units Sold</th>\n",
       "      <th>Unit Price</th>\n",
       "      <th>Total Revenue</th>\n",
       "      <th>Region</th>\n",
       "      <th>Payment Method</th>\n",
       "    </tr>\n",
       "  </thead>\n",
       "  <tbody>\n",
       "    <tr>\n",
       "      <th>0</th>\n",
       "      <td>10001</td>\n",
       "      <td>2024-01-01</td>\n",
       "      <td>Electronics</td>\n",
       "      <td>iPhone 14 Pro</td>\n",
       "      <td>2</td>\n",
       "      <td>999.99</td>\n",
       "      <td>1999.98</td>\n",
       "      <td>North America</td>\n",
       "      <td>Credit Card</td>\n",
       "    </tr>\n",
       "    <tr>\n",
       "      <th>1</th>\n",
       "      <td>10002</td>\n",
       "      <td>2024-01-02</td>\n",
       "      <td>Home Appliances</td>\n",
       "      <td>Dyson V11 Vacuum</td>\n",
       "      <td>1</td>\n",
       "      <td>499.99</td>\n",
       "      <td>499.99</td>\n",
       "      <td>Europe</td>\n",
       "      <td>PayPal</td>\n",
       "    </tr>\n",
       "    <tr>\n",
       "      <th>2</th>\n",
       "      <td>10003</td>\n",
       "      <td>2024-01-03</td>\n",
       "      <td>Clothing</td>\n",
       "      <td>Levi's 501 Jeans</td>\n",
       "      <td>3</td>\n",
       "      <td>69.99</td>\n",
       "      <td>209.97</td>\n",
       "      <td>Asia</td>\n",
       "      <td>Debit Card</td>\n",
       "    </tr>\n",
       "    <tr>\n",
       "      <th>3</th>\n",
       "      <td>10004</td>\n",
       "      <td>2024-01-04</td>\n",
       "      <td>Books</td>\n",
       "      <td>The Da Vinci Code</td>\n",
       "      <td>4</td>\n",
       "      <td>15.99</td>\n",
       "      <td>63.96</td>\n",
       "      <td>North America</td>\n",
       "      <td>Credit Card</td>\n",
       "    </tr>\n",
       "    <tr>\n",
       "      <th>4</th>\n",
       "      <td>10005</td>\n",
       "      <td>2024-01-05</td>\n",
       "      <td>Beauty Products</td>\n",
       "      <td>Neutrogena Skincare Set</td>\n",
       "      <td>1</td>\n",
       "      <td>89.99</td>\n",
       "      <td>89.99</td>\n",
       "      <td>Europe</td>\n",
       "      <td>PayPal</td>\n",
       "    </tr>\n",
       "  </tbody>\n",
       "</table>\n",
       "</div>"
      ],
      "text/plain": [
       "   Transaction ID        Date Product Category             Product Name  \\\n",
       "0           10001  2024-01-01      Electronics            iPhone 14 Pro   \n",
       "1           10002  2024-01-02  Home Appliances         Dyson V11 Vacuum   \n",
       "2           10003  2024-01-03         Clothing         Levi's 501 Jeans   \n",
       "3           10004  2024-01-04            Books        The Da Vinci Code   \n",
       "4           10005  2024-01-05  Beauty Products  Neutrogena Skincare Set   \n",
       "\n",
       "   Units Sold  Unit Price  Total Revenue         Region Payment Method  \n",
       "0           2      999.99        1999.98  North America    Credit Card  \n",
       "1           1      499.99         499.99         Europe         PayPal  \n",
       "2           3       69.99         209.97           Asia     Debit Card  \n",
       "3           4       15.99          63.96  North America    Credit Card  \n",
       "4           1       89.99          89.99         Europe         PayPal  "
      ]
     },
     "execution_count": 34,
     "metadata": {},
     "output_type": "execute_result"
    }
   ],
   "source": [
    "df=pd.read_csv('sales_data.csv')\n",
    "print(df)\n",
    "df.head(5)"
   ]
  },
  {
   "cell_type": "code",
   "execution_count": 35,
   "metadata": {},
   "outputs": [
    {
     "data": {
      "text/plain": [
       "[1, 2, 3, 4, 5]"
      ]
     },
     "execution_count": 35,
     "metadata": {},
     "output_type": "execute_result"
    }
   ],
   "source": [
    "##Accessing DataFrame elements\n",
    "data"
   ]
  },
  {
   "cell_type": "code",
   "execution_count": null,
   "metadata": {},
   "outputs": [],
   "source": []
  }
 ],
 "metadata": {
  "kernelspec": {
   "display_name": "Python 3",
   "language": "python",
   "name": "python3"
  },
  "language_info": {
   "codemirror_mode": {
    "name": "ipython",
    "version": 3
   },
   "file_extension": ".py",
   "mimetype": "text/x-python",
   "name": "python",
   "nbconvert_exporter": "python",
   "pygments_lexer": "ipython3",
   "version": "3.10.18"
  }
 },
 "nbformat": 4,
 "nbformat_minor": 2
}
