{
 "cells": [
  {
   "cell_type": "code",
   "execution_count": 1,
   "metadata": {},
   "outputs": [
    {
     "name": "stdout",
     "output_type": "stream",
     "text": [
      "hello\n"
     ]
    }
   ],
   "source": [
    "print(\"hello\")"
   ]
  },
  {
   "cell_type": "code",
   "execution_count": 1,
   "metadata": {},
   "outputs": [],
   "source": [
    "class Animal:\n",
    "    def speak(self):\n",
    "        return \" sound of the animal\"\n",
    "\n",
    "class Dog(Animal):\n",
    "    def speak(self):\n",
    "        return \"bark\"   \n",
    "class cat(Animal):\n",
    "    def speak(self):\n",
    "        return \"meow\"\n",
    "\n",
    "def animal_sound(animal):\n",
    "    return animal.speak()\n"
   ]
  },
  {
   "cell_type": "code",
   "execution_count": 4,
   "metadata": {},
   "outputs": [
    {
     "name": "stdout",
     "output_type": "stream",
     "text": [
      "Rectangle area: 50\n",
      "Circle area: 153.93804002589985\n"
     ]
    }
   ],
   "source": [
    "## Polymorphism Using functions\n",
    "\n",
    "\n",
    "class Shape:\n",
    "    def area(self):\n",
    "        raise NotImplementedError(\"Subclasses should implement this!\")\n",
    "class Rectangle(Shape):\n",
    "    def __init__(self, width, height):\n",
    "        self.width = width\n",
    "        self.height = height\n",
    "    def area(self):\n",
    "        return self.width * self.height\n",
    "class Circle(Shape):\n",
    "    def __init__(self, radius):\n",
    "        self.radius = radius\n",
    "    def area(self):\n",
    "        import math\n",
    "        return math.pi * (self.radius ** 2)\n",
    "    \n",
    "def calculate_area(shape):\n",
    "    if not isinstance(shape, Shape):\n",
    "        raise TypeError(\"Expected a Shape instance\")\n",
    "    return shape.area()\n",
    "    \n",
    "rectangle = Rectangle(5, 10)\n",
    "circle = Circle(7)\n",
    "    \n",
    "print(\"Rectangle area:\", calculate_area(rectangle))\n",
    "print(\"Circle area:\", calculate_area(circle))"
   ]
  },
  {
   "cell_type": "code",
   "execution_count": 10,
   "metadata": {},
   "outputs": [
    {
     "name": "stdout",
     "output_type": "stream",
     "text": [
      "<__main__.Car object at 0x000002C223E181F0>\n",
      "<__main__.Motorcycle object at 0x000002C223E19090>\n"
     ]
    }
   ],
   "source": [
    "from abc import ABC, abstractmethod\n",
    "\n",
    "## Define Abstract Class\n",
    "class Vehicle(ABC):\n",
    "    @abstractmethod\n",
    "    def start_engine(self):\n",
    "        pass\n",
    "    \n",
    "    @abstractmethod\n",
    "    def stop(self):\n",
    "        pass\n",
    "    \n",
    "class Car(Vehicle):\n",
    "    def start_engine(self):\n",
    "        return \"Car engine started\"\n",
    "    \n",
    "    def stop(self):\n",
    "        return \"Car stopped\"\n",
    "    \n",
    "class Motorcycle(Vehicle):\n",
    "    def start_engine(self):\n",
    "        return \"Motorcycle engine started\"\n",
    "    \n",
    "    def stop(self):\n",
    "        return \"Motorcycle stopped\"\n",
    "#create objects of Car and Motorcycle \n",
    "\n",
    "car=print(Car())\n",
    "Motorcycle=print(Motorcycle())"
   ]
  },
  {
   "cell_type": "code",
   "execution_count": null,
   "metadata": {},
   "outputs": [],
   "source": []
  }
 ],
 "metadata": {
  "kernelspec": {
   "display_name": "Python 3",
   "language": "python",
   "name": "python3"
  },
  "language_info": {
   "codemirror_mode": {
    "name": "ipython",
    "version": 3
   },
   "file_extension": ".py",
   "mimetype": "text/x-python",
   "name": "python",
   "nbconvert_exporter": "python",
   "pygments_lexer": "ipython3",
   "version": "3.10.18"
  }
 },
 "nbformat": 4,
 "nbformat_minor": 2
}
